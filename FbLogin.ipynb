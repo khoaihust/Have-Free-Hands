{
 "cells": [
  {
   "cell_type": "code",
   "execution_count": 1,
   "metadata": {},
   "outputs": [],
   "source": [
    "from selenium import webdriver \n",
    "from time import sleep "
   ]
  },
  {
   "cell_type": "code",
   "execution_count": 2,
   "metadata": {},
   "outputs": [
    {
     "name": "stdout",
     "output_type": "stream",
     "text": [
      "Nhap email or sdt: 000000000000\n",
      "Nhap mat khau: 00000000000000\n"
     ]
    }
   ],
   "source": [
    "# User and password\n",
    "usr = input ('Nhap email or sdt: ')\n",
    "pwd = input ('Nhap mat khau: ')"
   ]
  },
  {
   "cell_type": "code",
   "execution_count": 3,
   "metadata": {},
   "outputs": [],
   "source": [
    "# Run browser\n",
    "# Need download web driver\n",
    "driver = webdriver.Firefox()\n",
    "# driver = webdriver.Chrome()\n",
    "driver.get('https://facebook.com/')\n",
    "sleep(1)"
   ]
  },
  {
   "cell_type": "code",
   "execution_count": 4,
   "metadata": {},
   "outputs": [],
   "source": [
    "# Find email box\n",
    "username_box = driver.find_element_by_id('email') \n",
    "# Fill usr into email box\n",
    "username_box.send_keys(usr) \n",
    "sleep(1)"
   ]
  },
  {
   "cell_type": "code",
   "execution_count": 5,
   "metadata": {},
   "outputs": [],
   "source": [
    "# Find password box\n",
    "username_box = driver.find_element_by_id('email') \n",
    "# Fill pwd into password box\n",
    "username_box.send_keys(usr) \n",
    "sleep(1)"
   ]
  },
  {
   "cell_type": "code",
   "execution_count": 6,
   "metadata": {},
   "outputs": [],
   "source": [
    "# Login\n",
    "login_box = driver.find_element_by_id('loginbutton') \n",
    "login_box.click() \n",
    "sleep(5)"
   ]
  },
  {
   "cell_type": "code",
   "execution_count": 7,
   "metadata": {},
   "outputs": [
    {
     "name": "stdout",
     "output_type": "stream",
     "text": [
      "finish!\n"
     ]
    }
   ],
   "source": [
    "# Exit browser\n",
    "driver.quit()\n",
    "print('finish!')"
   ]
  }
 ],
 "metadata": {
  "kernelspec": {
   "display_name": "Python 3",
   "language": "python",
   "name": "python3"
  },
  "language_info": {
   "codemirror_mode": {
    "name": "ipython",
    "version": 3
   },
   "file_extension": ".py",
   "mimetype": "text/x-python",
   "name": "python",
   "nbconvert_exporter": "python",
   "pygments_lexer": "ipython3",
   "version": "3.6.9"
  }
 },
 "nbformat": 4,
 "nbformat_minor": 4
}
